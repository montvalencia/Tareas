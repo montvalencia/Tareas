{
 "cells": [
  {
   "cell_type": "markdown",
   "metadata": {},
   "source": [
    "Ejercicio 1:\n",
    "\n",
    "    Reciben una lista del número de animales en un refugio, tienen que devolver el número más alto de la lista y el promedio del número de animales en una lista nueva.\n",
    "    Ejemplo:\n",
    "        si yo les paso (15, 10, 5, 25, 20), debe retornar (25, 15)"
   ]
  },
  {
   "cell_type": "code",
   "execution_count": 7,
   "metadata": {},
   "outputs": [
    {
     "data": {
      "text/plain": [
       "45"
      ]
     },
     "execution_count": 7,
     "metadata": {},
     "output_type": "execute_result"
    }
   ],
   "source": [
    "def animales(m):\n",
    "    masgrande=0\n",
    "    for i in m:\n",
    "        if i > masgrande:\n",
    "            masgrande = i\n",
    "    \n",
    "    return masgrande\n",
    "    \n",
    "    \n",
    "m=[1,3,5,7,3,45]\n",
    "animales(m)"
   ]
  },
  {
   "cell_type": "code",
   "execution_count": 8,
   "metadata": {},
   "outputs": [
    {
     "data": {
      "text/plain": [
       "10.666666666666666"
      ]
     },
     "execution_count": 8,
     "metadata": {},
     "output_type": "execute_result"
    }
   ],
   "source": [
    "prom = sum(m)/len(m)\n",
    "prom\n",
    "    "
   ]
  },
  {
   "cell_type": "markdown",
   "metadata": {},
   "source": [
    "Ejercicio 2:\n",
    "Reciben una lista de características y deben retornar una lista donde el primer elemento es un string con todos los caracteres concadenados, y el segundo elemento es el mismo string pero dado vuelta.\n",
    "\n",
    "Ejemplo:\n",
    "si les paso ('s', 't','w','q','o'), debe retornar ('stwqo','oqwts')"
   ]
  },
  {
   "cell_type": "code",
   "execution_count": 36,
   "metadata": {},
   "outputs": [
    {
     "data": {
      "text/plain": [
       "('mono', 'onom')"
      ]
     },
     "execution_count": 36,
     "metadata": {},
     "output_type": "execute_result"
    }
   ],
   "source": [
    "def cosa(n):\n",
    "    c=\"\"\n",
    "    for a in n:\n",
    "        c = c + a\n",
    "    d=\"\"\n",
    "    for a in n:\n",
    "        d = a + d\n",
    "        \n",
    "    return(c,d)\n",
    "    \n",
    "    \n",
    "\n",
    "n=[\"m\",\"o\",\"n\",\"o\"]\n",
    "cosa(n)"
   ]
  },
  {
   "cell_type": "markdown",
   "metadata": {},
   "source": [
    "Ejercicio 3: Dado un número N la función retornará todos los números impares entre 0 y N en una lista.\n",
    "Ejemplo: N=7 => [1,3,5,7]"
   ]
  },
  {
   "cell_type": "code",
   "execution_count": 2,
   "metadata": {},
   "outputs": [
    {
     "data": {
      "text/plain": [
       "[1, 3, 5, 7, 9, 11, 13, 15, 17, 19, 21, 23, 25, 27, 29]"
      ]
     },
     "execution_count": 2,
     "metadata": {},
     "output_type": "execute_result"
    }
   ],
   "source": [
    "def funcion(p):\n",
    "    lista=[]\n",
    "    for y in range(p):\n",
    "        if(y%2 == 1): # si es impar\n",
    "            lista.append(y) # agregalo a la lista\n",
    "    return (lista)\n",
    "\n",
    "m= 30\n",
    "funcion(m)"
   ]
  },
  {
   "cell_type": "code",
   "execution_count": 56,
   "metadata": {},
   "outputs": [
    {
     "data": {
      "text/plain": [
       "30"
      ]
     },
     "execution_count": 56,
     "metadata": {},
     "output_type": "execute_result"
    }
   ],
   "source": [
    "p"
   ]
  },
  {
   "cell_type": "code",
   "execution_count": null,
   "metadata": {},
   "outputs": [],
   "source": []
  }
 ],
 "metadata": {
  "kernelspec": {
   "display_name": "Python 3",
   "language": "python",
   "name": "python3"
  },
  "language_info": {
   "codemirror_mode": {
    "name": "ipython",
    "version": 3
   },
   "file_extension": ".py",
   "mimetype": "text/x-python",
   "name": "python",
   "nbconvert_exporter": "python",
   "pygments_lexer": "ipython3",
   "version": "3.6.5"
  }
 },
 "nbformat": 4,
 "nbformat_minor": 2
}
