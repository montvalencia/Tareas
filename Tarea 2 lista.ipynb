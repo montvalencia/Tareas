{
 "cells": [
  {
   "cell_type": "markdown",
   "metadata": {
    "collapsed": true
   },
   "source": [
    "Ejercicio sets:\n",
    "\n",
    "Dadas dos listas, convertirlas a un set en donde no se muestren los elementos repetidos que existen en ambas listas.\n",
    "\n",
    "Ejemplo:\n",
    "['perro', 'tortuga', 'gato', 'perro'], ['liebre', 'gato', 'serpiente'] => {'perro', 'tortuga', 'gato', 'liebre', 'serpiente'}"
   ]
  },
  {
   "cell_type": "code",
   "execution_count": 3,
   "metadata": {},
   "outputs": [
    {
     "data": {
      "text/plain": [
       "{'azul', 'blanco', 'morado', 'rosado', 'verde'}"
      ]
     },
     "execution_count": 3,
     "metadata": {},
     "output_type": "execute_result"
    }
   ],
   "source": [
    "def colores(a,b):\n",
    "    for color in a:\n",
    "        b.append(color)\n",
    "    return set(b)\n",
    "    \n",
    "    \n",
    "a=[\"azul\", \"blanco\", \"rosado\"]\n",
    "b=[\"rosado\", \"morado\", \"verde\", \"rosado\"]\n",
    "\n",
    "colores(a,b)"
   ]
  },
  {
   "cell_type": "markdown",
   "metadata": {
    "collapsed": true
   },
   "source": [
    "Ejercicio diccionarios:\n",
    "\n",
    "Se les da un diccionario con el stock de una bodega de instrumentos musicales y su precio unitario.\n",
    "Devolver otro diccionario con la suma de lo que valen todas las categorías de instrumentos por separado.\n",
    "\n",
    "Ejemplo:\n",
    "{'guitarra': {'stock': 20, 'precio': 2000}, 'xilofono': {'stock': 2, 'precio': 10000}}\n",
    "=> {'guitarra': 40000, 'xilofono': 20000}"
   ]
  },
  {
   "cell_type": "code",
   "execution_count": 11,
   "metadata": {},
   "outputs": [
    {
     "name": "stdout",
     "output_type": "stream",
     "text": [
      "{'guitarra': 39000, 'piano': 22000, 'microfono': 200000}\n"
     ]
    }
   ],
   "source": [
    "dicc= {\"guitarra\":{\"stock\": 13, \"precio\":3000}, \"piano\": {\"stock\": 11, \"precio\": 2000}, \"microfono\": {\"stock\": 40, \"precio\" : 5000}}\n",
    "\n",
    "\n",
    "def funcion (instrumentos):\n",
    "    suma = 0\n",
    "    total= {}\n",
    "    for y in instrumentos:\n",
    "        suma = instrumentos[y][\"stock\"] * instrumentos[y][\"precio\"]\n",
    "        total[y] = suma\n",
    "    return(total)\n",
    "      \n",
    "print(funcion(dicc))\n"
   ]
  },
  {
   "cell_type": "markdown",
   "metadata": {
    "collapsed": true
   },
   "source": [
    "Ejercicio list comprehensions:\n",
    "    \n",
    "Usando list comprehensions, generar y retornar un tablero de ajedrez (8x8) donde los cuadrados blancos sean 1 y los\n",
    "negros sean 0. Todo esto se tiene que hacer en una sola linea."
   ]
  },
  {
   "cell_type": "code",
   "execution_count": 35,
   "metadata": {},
   "outputs": [
    {
     "name": "stdout",
     "output_type": "stream",
     "text": [
      "[0, 1, 0, 1, 0, 1, 0, 1]\n",
      "[1, 0, 1, 0, 1, 0, 1, 0]\n",
      "[0, 1, 0, 1, 0, 1, 0, 1]\n",
      "[1, 0, 1, 0, 1, 0, 1, 0]\n",
      "[0, 1, 0, 1, 0, 1, 0, 1]\n",
      "[1, 0, 1, 0, 1, 0, 1, 0]\n",
      "[0, 1, 0, 1, 0, 1, 0, 1]\n",
      "[1, 0, 1, 0, 1, 0, 1, 0]\n"
     ]
    }
   ],
   "source": [
    "for y in [[(n + (x%2))%2 for n in range(8)] for x in range(8)]: print (y)"
   ]
  },
  {
   "cell_type": "code",
   "execution_count": null,
   "metadata": {},
   "outputs": [],
   "source": []
  }
 ],
 "metadata": {
  "kernelspec": {
   "display_name": "Python 3",
   "language": "python",
   "name": "python3"
  },
  "language_info": {
   "codemirror_mode": {
    "name": "ipython",
    "version": 3
   },
   "file_extension": ".py",
   "mimetype": "text/x-python",
   "name": "python",
   "nbconvert_exporter": "python",
   "pygments_lexer": "ipython3",
   "version": "3.6.5"
  }
 },
 "nbformat": 4,
 "nbformat_minor": 2
}
